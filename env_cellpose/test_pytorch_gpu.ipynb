{
 "cells": [
  {
   "cell_type": "code",
   "execution_count": 2,
   "id": "882a7b0d",
   "metadata": {},
   "outputs": [
    {
     "name": "stdout",
     "output_type": "stream",
     "text": [
      "True\n"
     ]
    }
   ],
   "source": [
    "import torch\n",
    "#GPU disponible?\n",
    "print(torch.cuda.is_available())"
   ]
  },
  {
   "cell_type": "code",
   "execution_count": 3,
   "id": "f6cdd68d",
   "metadata": {},
   "outputs": [
    {
     "name": "stdout",
     "output_type": "stream",
     "text": [
      "1\n"
     ]
    }
   ],
   "source": [
    "#Nombre de GPU disponibles?\n",
    "print(torch.cuda.device_count())"
   ]
  },
  {
   "cell_type": "code",
   "execution_count": 4,
   "id": "73e6cdac",
   "metadata": {},
   "outputs": [
    {
     "name": "stdout",
     "output_type": "stream",
     "text": [
      "NVIDIA GeForce GTX 1080\n"
     ]
    }
   ],
   "source": [
    "#Nom du GPU?\n",
    "print(torch.cuda.get_device_name(0))"
   ]
  },
  {
   "cell_type": "code",
   "execution_count": 5,
   "id": "eb1ae9fb",
   "metadata": {},
   "outputs": [
    {
     "name": "stdout",
     "output_type": "stream",
     "text": [
      "cuda:0\n"
     ]
    }
   ],
   "source": [
    "# Verifier qu'un tenseur est bien envoye au GPU\n",
    "\n",
    "# Crée un tenseur\n",
    "x = torch.tensor([1.0])\n",
    "\n",
    "# L’envoyer sur GPU s’il est dispo\n",
    "device = torch.device(\"cuda\" if torch.cuda.is_available() else \"cpu\")\n",
    "x = x.to(device)\n",
    "\n",
    "print(x.device)"
   ]
  },
  {
   "cell_type": "code",
   "execution_count": 6,
   "id": "6713a22c",
   "metadata": {},
   "outputs": [
    {
     "name": "stdout",
     "output_type": "stream",
     "text": [
      "tensor([[   1.9130,  -72.1855,  178.7514,  ...,   81.3613,   53.7490,\n",
      "          -46.7152],\n",
      "        [ -18.1855,  -10.4556, -221.4205,  ...,   91.8654, -124.5839,\n",
      "           60.2043],\n",
      "        [  19.4226, -130.9685,   53.2220,  ...,  -10.4462,   59.2335,\n",
      "           67.5258],\n",
      "        ...,\n",
      "        [  46.5251, -176.9188, -125.2474,  ...,  108.7007,   80.0357,\n",
      "           54.3301],\n",
      "        [-112.9322,   10.4000,   71.0865,  ...,  -14.1239,  143.3392,\n",
      "          -42.8795],\n",
      "        [  33.8190,  166.2661, -122.7833,  ...,   15.2704, -121.1167,\n",
      "           84.5491]], device='cuda:0')\n"
     ]
    }
   ],
   "source": [
    "#fair un test de calcul\n",
    "x = torch.randn(10000, 10000, device='cuda')\n",
    "y = torch.randn(10000, 10000, device='cuda')\n",
    "z = torch.matmul(x, y)\n",
    "print(z)"
   ]
  }
 ],
 "metadata": {
  "kernelspec": {
   "display_name": "cellpose",
   "language": "python",
   "name": "cellpose"
  },
  "language_info": {
   "codemirror_mode": {
    "name": "ipython",
    "version": 3
   },
   "file_extension": ".py",
   "mimetype": "text/x-python",
   "name": "python",
   "nbconvert_exporter": "python",
   "pygments_lexer": "ipython3",
   "version": "3.10.17"
  }
 },
 "nbformat": 4,
 "nbformat_minor": 5
}
